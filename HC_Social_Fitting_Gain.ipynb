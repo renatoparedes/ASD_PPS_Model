{
 "cells": [
  {
   "cell_type": "code",
   "execution_count": 11,
   "metadata": {},
   "outputs": [],
   "source": [
    "### Load PPS model\n",
    "%run ./HC_NS_model.ipynb"
   ]
  },
  {
   "cell_type": "code",
   "execution_count": 12,
   "metadata": {},
   "outputs": [
    {
     "data": {
      "text/plain": [
       "<matplotlib.collections.PathCollection at 0x1e90e2f0b08>"
      ]
     },
     "execution_count": 12,
     "metadata": {},
     "output_type": "execute_result"
    },
    {
     "data": {
      "image/png": "[encoded data removed]",
      "text/plain": [
       "<Figure size 432x288 with 1 Axes>"
      ]
     },
     "metadata": {
      "needs_background": "light"
     },
     "output_type": "display_data"
    }
   ],
   "source": [
    "### Visuotactile experiment simulation setup\n",
    "\n",
    "# Distance points in cm (network coordinates)\n",
    "v_distances = np.asarray([13.2, 23.1, 33, 42.9, 52.8])\n",
    "mydistances = np.linspace(v_distances[0], v_distances[-1], 7)\n",
    "\n",
    "## Simulation setup\n",
    "simtime = 100  # ms\n",
    "bi = 0\n",
    "\n",
    "# Synapses setup\n",
    "B_0 = 1.5\n",
    "L_ex, L_in, S_ex, S_in = 0.15, 0.05, 1, 4\n",
    "\n",
    "# Experimental Data\n",
    "ymin = -30.35339096578619\n",
    "ymax = -13.255889461344687\n",
    "cp = 30.094\n",
    "slope = 3.0898\n",
    "\n",
    "HC_S_RTs = RTsig(mydistances, cp, slope)\n",
    "plt.scatter(mydistances, HC_S_RTs)"
   ]
  },
  {
   "cell_type": "code",
   "execution_count": 4,
   "metadata": {},
   "outputs": [
    {
     "name": "stdout",
     "output_type": "stream",
     "text": [
      "differential_evolution step 1: f(x)= 4138.15\n",
      "differential_evolution step 2: f(x)= 3785.3\n",
      "differential_evolution step 3: f(x)= 3785.3\n",
      "differential_evolution step 4: f(x)= 3511.88\n",
      "differential_evolution step 5: f(x)= 2104.55\n",
      "differential_evolution step 6: f(x)= 1853.88\n",
      "differential_evolution step 7: f(x)= 1853.88\n",
      "differential_evolution step 8: f(x)= 1313.68\n",
      "differential_evolution step 9: f(x)= 1313.68\n",
      "differential_evolution step 10: f(x)= 1313.68\n",
      "differential_evolution step 11: f(x)= 1313.68\n",
      "differential_evolution step 12: f(x)= 1313.68\n",
      "differential_evolution step 13: f(x)= 1313.68\n",
      "differential_evolution step 14: f(x)= 1313.68\n",
      "differential_evolution step 15: f(x)= 1313.68\n",
      "differential_evolution step 16: f(x)= 1313.68\n",
      "differential_evolution step 17: f(x)= 1313.68\n",
      "differential_evolution step 18: f(x)= 1313.68\n",
      "differential_evolution step 19: f(x)= 1313.68\n",
      "differential_evolution step 20: f(x)= 1313.68\n",
      "differential_evolution step 21: f(x)= 1313.68\n",
      "differential_evolution step 22: f(x)= 1313.68\n"
     ]
    }
   ],
   "source": [
    "def hcsocialmodelrun(theta):\n",
    "    hcRTs, ZMs, ZTs, ZAs = experimentrun(\n",
    "        mydistances, simtime, bi, theta[0], L_ex, L_in, S_ex, S_in, B_0\n",
    "    )\n",
    "    yf = HC_S_RTs\n",
    "    xf = hcRTs\n",
    "\n",
    "    m = (xf.size * np.sum(xf * yf) - np.sum(xf) * np.sum(yf)) / (\n",
    "        xf.size * np.sum(xf * xf) - np.sum(xf) ** 2\n",
    "    )\n",
    "    bias = (np.sum(yf) - m * np.sum(xf)) / xf.size\n",
    "\n",
    "    if bias > 0:\n",
    "        bias = 0\n",
    "    if m < 0:\n",
    "        m = 0\n",
    "\n",
    "    cost = np.sum(np.square(np.divide(yf - (m * xf + bias), yf)))\n",
    "\n",
    "    return cost * 100000\n",
    "\n",
    "\n",
    "bounds = [(0.1, 1.5)]\n",
    "hcsocialres_mgain = differential_evolution(hcsocialmodelrun, bounds, disp=True)"
   ]
  },
  {
   "cell_type": "code",
   "execution_count": 5,
   "metadata": {},
   "outputs": [
    {
     "name": "stdout",
     "output_type": "stream",
     "text": [
      "     fun: 1313.683305810817\n",
      " message: 'Optimization terminated successfully.'\n",
      "    nfev: 347\n",
      "     nit: 22\n",
      " success: True\n",
      "       x: array([0.10046694])\n"
     ]
    }
   ],
   "source": [
    "print(hcsocialres_mgain)"
   ]
  },
  {
   "cell_type": "code",
   "execution_count": 13,
   "metadata": {},
   "outputs": [],
   "source": [
    "asdRTs, ZMs, ZTs, ZAs = experimentrun(\n",
    "    mydistances, simtime, bi, 0.10046694, L_ex, L_in, S_ex, S_in, B_0\n",
    ")"
   ]
  },
  {
   "cell_type": "code",
   "execution_count": 14,
   "metadata": {},
   "outputs": [
    {
     "name": "stdout",
     "output_type": "stream",
     "text": [
      "8.240677301182185 -3.30671302911229\n"
     ]
    },
    {
     "data": {
      "image/png": "[encoded data removed]",
      "text/plain": [
       "<Figure size 432x288 with 1 Axes>"
      ]
     },
     "metadata": {
      "needs_background": "light"
     },
     "output_type": "display_data"
    }
   ],
   "source": [
    "xf = asdRTs\n",
    "yf = HC_S_RTs\n",
    "m = (xf.size * np.sum(xf * yf) - np.sum(xf) * np.sum(yf)) / (\n",
    "    xf.size * np.sum(xf * xf) - np.sum(xf) ** 2\n",
    ")\n",
    "bias = (np.sum(yf) - m * np.sum(xf)) / xf.size\n",
    "\n",
    "ymin, ymax = np.min(m * xf + bias), np.max(m * xf + bias)\n",
    "dc, h = sigfit(mydistances, m * xf + bias)\n",
    "mydistances_exp = np.linspace(v_distances[0], v_distances[-1], 30)\n",
    "yf_exp = RTsig(mydistances_exp, dc, h)\n",
    "\n",
    "plt.figure(1)\n",
    "plt.plot(mydistances_exp, yf_exp, label=\"HC - Social Model\", color=\"k\")\n",
    "plt.scatter(mydistances, HC_S_RTs, label=\"HC - Social Data\", color=\"k\")\n",
    "plt.ylabel(\"Multisensory facilitation (ms)\", size=14)\n",
    "plt.xlabel(\"Distance (cm)\", size=14)\n",
    "plt.legend(prop={\"size\": 12})\n",
    "print(m, bias)"
   ]
  },
  {
   "cell_type": "code",
   "execution_count": 15,
   "metadata": {},
   "outputs": [],
   "source": [
    "socialhc = np.asarray([yf_exp, yf])\n",
    "np.save(\"Results/socialhc.npy\", socialhc)"
   ]
  },
  {
   "cell_type": "code",
   "execution_count": 16,
   "metadata": {},
   "outputs": [
    {
     "name": "stdout",
     "output_type": "stream",
     "text": [
      "0.7617268323957492\n"
     ]
    }
   ],
   "source": [
    "from sklearn import metrics\n",
    "\n",
    "print(metrics.mean_squared_error(yf, m * xf + bias, squared=False))"
   ]
  }
 ],
 "metadata": {
  "kernelspec": {
   "display_name": "Python 3",
   "language": "python",
   "name": "python3"
  },
  "language_info": {
   "codemirror_mode": {
    "name": "ipython",
    "version": 3
   },
   "file_extension": ".py",
   "mimetype": "text/x-python",
   "name": "python",
   "nbconvert_exporter": "python",
   "pygments_lexer": "ipython3",
   "version": "3.7.4"
  },
  "widgets": {
   "application/vnd.jupyter.widget-state+json": {
    "state": {},
    "version_major": 2,
    "version_minor": 0
   }
  }
 },
 "nbformat": 4,
 "nbformat_minor": 4
}
