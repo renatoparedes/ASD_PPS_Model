{
 "cells": [
  {
   "cell_type": "code",
   "execution_count": 1,
   "metadata": {},
   "outputs": [],
   "source": [
    "### Load PPS model\n",
    "%run ./HC_NS_model.ipynb"
   ]
  },
  {
   "cell_type": "code",
   "execution_count": 3,
   "metadata": {},
   "outputs": [
    {
     "data": {
      "text/plain": [
       "<matplotlib.collections.PathCollection at 0x1c097198e48>"
      ]
     },
     "execution_count": 3,
     "metadata": {},
     "output_type": "execute_result"
    },
    {
     "data": {
      "image/png": "[encoded data removed]",
      "text/plain": [
       "<Figure size 432x288 with 1 Axes>"
      ]
     },
     "metadata": {
      "needs_background": "light"
     },
     "output_type": "display_data"
    }
   ],
   "source": [
    "### Visuotactile experiment simulation setup\n",
    "\n",
    "# Distance points in cm (network coordinates)\n",
    "v_distances = np.asarray([13.2, 23.1, 33, 42.9, 52.8])\n",
    "mydistances = np.linspace(v_distances[0], v_distances[-1], 7)\n",
    "\n",
    "## Simulation setup\n",
    "simtime = 100  # ms\n",
    "bi = 0\n",
    "g = 0.6\n",
    "\n",
    "# Synapses setup\n",
    "L_ex, L_in, S_ex, S_in = 0.15, 0.05, 1, 4\n",
    "\n",
    "# Experimental Data\n",
    "ymin = -30.35339096578619\n",
    "ymax = -13.255889461344687\n",
    "cp = 30.094\n",
    "slope = 3.0898\n",
    "\n",
    "HC_S_RTs = RTsig(mydistances, cp, slope)\n",
    "plt.scatter(mydistances, HC_S_RTs)"
   ]
  },
  {
   "cell_type": "code",
   "execution_count": 5,
   "metadata": {},
   "outputs": [
    {
     "name": "stdout",
     "output_type": "stream",
     "text": [
      "differential_evolution step 1: f(x)= 9710.22\n",
      "differential_evolution step 2: f(x)= 8551.42\n",
      "differential_evolution step 3: f(x)= 8551.42\n",
      "differential_evolution step 4: f(x)= 8502.49\n",
      "differential_evolution step 5: f(x)= 8502.49\n",
      "differential_evolution step 6: f(x)= 8502.49\n",
      "differential_evolution step 7: f(x)= 8502.49\n",
      "differential_evolution step 8: f(x)= 8502.49\n",
      "differential_evolution step 9: f(x)= 8502.49\n",
      "differential_evolution step 10: f(x)= 8502.49\n",
      "differential_evolution step 11: f(x)= 8502.49\n",
      "differential_evolution step 12: f(x)= 8502.49\n"
     ]
    }
   ],
   "source": [
    "def hcsocialmodelrun(theta):\n",
    "    hcsRTs, ZMs, ZTs, ZAs = experimentrun(\n",
    "        mydistances, simtime, bi, g, L_ex, L_in, S_ex, S_in, theta[0]\n",
    "    )\n",
    "    xf = hcsRTs\n",
    "    yf = HC_S_RTs\n",
    "\n",
    "    m = (xf.size * np.sum(xf * yf) - np.sum(xf) * np.sum(yf)) / (\n",
    "        xf.size * np.sum(xf * xf) - np.sum(xf) ** 2\n",
    "    )\n",
    "    bias = (np.sum(yf) - m * np.sum(xf)) / xf.size\n",
    "\n",
    "    if bias > 0:\n",
    "        bias = 0\n",
    "    if m < 0:\n",
    "        m = 0\n",
    "\n",
    "    cost = np.sum(np.square(np.divide(yf - (m * xf + bias), yf)))\n",
    "\n",
    "    return cost * 100000\n",
    "\n",
    "\n",
    "bounds = [(0.1, 4)]\n",
    "boundaryhcsres = differential_evolution(hcsocialmodelrun, bounds, disp=True)"
   ]
  },
  {
   "cell_type": "code",
   "execution_count": 6,
   "metadata": {},
   "outputs": [
    {
     "name": "stdout",
     "output_type": "stream",
     "text": [
      "     fun: 8502.488049169326\n",
      " message: 'Optimization terminated successfully.'\n",
      "    nfev: 197\n",
      "     nit: 12\n",
      " success: True\n",
      "       x: array([3.0587001])\n"
     ]
    }
   ],
   "source": [
    "print(boundaryhcsres)"
   ]
  },
  {
   "cell_type": "code",
   "execution_count": 4,
   "metadata": {},
   "outputs": [],
   "source": [
    "sHC_RTs, ZMs, ZTs, ZVs = experimentrun(\n",
    "    mydistances, simtime, bi, g, L_ex, L_in, S_ex, S_in, 3.0587001\n",
    ")"
   ]
  },
  {
   "cell_type": "code",
   "execution_count": 5,
   "metadata": {},
   "outputs": [
    {
     "name": "stdout",
     "output_type": "stream",
     "text": [
      "2.070543567040004 0\n"
     ]
    },
    {
     "data": {
      "image/png": "[encoded data removed]",
      "text/plain": [
       "<Figure size 432x288 with 1 Axes>"
      ]
     },
     "metadata": {
      "needs_background": "light"
     },
     "output_type": "display_data"
    }
   ],
   "source": [
    "xf = sHC_RTs\n",
    "yf = HC_S_RTs\n",
    "m = (xf.size * np.sum(xf * yf) - np.sum(xf) * np.sum(yf)) / (\n",
    "    xf.size * np.sum(xf * xf) - np.sum(xf) ** 2\n",
    ")\n",
    "bias = (np.sum(yf) - m * np.sum(xf)) / xf.size\n",
    "\n",
    "if bias > 0:\n",
    "    bias = 0\n",
    "if m < 0:\n",
    "    m = 0\n",
    "\n",
    "ymin, ymax = np.min(m * xf + bias), np.max(m * xf + bias)\n",
    "dc, h = sigfit(mydistances, m * xf + bias)\n",
    "mydistances_exp = np.linspace(v_distances[0], v_distances[-1], 30)\n",
    "yf_exp = RTsig(mydistances_exp, dc, h)\n",
    "\n",
    "plt.figure(1)\n",
    "plt.plot(mydistances_exp, yf_exp, label=\"HC - Social Model\", color=\"k\")\n",
    "plt.scatter(mydistances, HC_S_RTs, label=\"HC - Social Data\", color=\"k\")\n",
    "plt.ylabel(\"Multisensory facilitation (ms)\", size=14)\n",
    "plt.xlabel(\"Distance (cm)\", size=14)\n",
    "plt.legend(prop={\"size\": 12})\n",
    "# plt.savefig('Results/hc_s_fitting.png', bbox_inches='tight')\n",
    "print(m, bias)"
   ]
  },
  {
   "cell_type": "code",
   "execution_count": 6,
   "metadata": {},
   "outputs": [],
   "source": [
    "socialhc = np.asarray([yf_exp, yf])\n",
    "np.save(\"Results/socialhc_alter.npy\", socialhc)"
   ]
  },
  {
   "cell_type": "code",
   "execution_count": 7,
   "metadata": {},
   "outputs": [
    {
     "name": "stdout",
     "output_type": "stream",
     "text": [
      "2.0374052784000325\n"
     ]
    }
   ],
   "source": [
    "from sklearn import metrics\n",
    "\n",
    "print(metrics.mean_squared_error(yf, m * xf + bias, squared=False))"
   ]
  }
 ],
 "metadata": {
  "kernelspec": {
   "display_name": "Python 3",
   "language": "python",
   "name": "python3"
  },
  "language_info": {
   "codemirror_mode": {
    "name": "ipython",
    "version": 3
   },
   "file_extension": ".py",
   "mimetype": "text/x-python",
   "name": "python",
   "nbconvert_exporter": "python",
   "pygments_lexer": "ipython3",
   "version": "3.7.4"
  },
  "widgets": {
   "application/vnd.jupyter.widget-state+json": {
    "state": {},
    "version_major": 2,
    "version_minor": 0
   }
  }
 },
 "nbformat": 4,
 "nbformat_minor": 4
}
