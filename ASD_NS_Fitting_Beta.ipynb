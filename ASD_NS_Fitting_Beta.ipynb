{
 "cells": [
  {
   "cell_type": "code",
   "execution_count": 1,
   "metadata": {},
   "outputs": [],
   "source": [
    "### Load PPS model\n",
    "%run ./HC_NS_model.ipynb"
   ]
  },
  {
   "cell_type": "code",
   "execution_count": 3,
   "metadata": {},
   "outputs": [
    {
     "data": {
      "text/plain": [
       "<matplotlib.collections.PathCollection at 0x23ab38e7408>"
      ]
     },
     "execution_count": 3,
     "metadata": {},
     "output_type": "execute_result"
    },
    {
     "data": {
      "image/png": "[encoded data removed]",
      "text/plain": [
       "<Figure size 432x288 with 1 Axes>"
      ]
     },
     "metadata": {
      "needs_background": "light"
     },
     "output_type": "display_data"
    }
   ],
   "source": [
    "### Visuotactile experiment simulation setup\n",
    "\n",
    "# Distance points in cm (network coordinates)\n",
    "v_distances = np.asarray([13.2, 23.1, 33, 42.9, 52.8])\n",
    "mydistances = np.linspace(v_distances[0], v_distances[-1], 7)\n",
    "\n",
    "## Simulation setup\n",
    "simtime = 100  # ms\n",
    "g = 0.6\n",
    "\n",
    "## Synapses setup\n",
    "B_0 = 1.5\n",
    "L_ex, L_in, S_ex, S_in = 0.15, 0.05, 1, 4\n",
    "\n",
    "# Experimental Data\n",
    "ymin = -35.42227065473723\n",
    "ymax = -19.68086767326455\n",
    "cp = 31.0507\n",
    "slope = 4.8447\n",
    "\n",
    "ASD_NS_RTs = RTsig(mydistances, cp, slope)\n",
    "plt.scatter(mydistances, ASD_NS_RTs)"
   ]
  },
  {
   "cell_type": "code",
   "execution_count": 3,
   "metadata": {},
   "outputs": [
    {
     "name": "stdout",
     "output_type": "stream",
     "text": [
      "differential_evolution step 1: f(x)= 345.761\n",
      "differential_evolution step 2: f(x)= 345.761\n",
      "differential_evolution step 3: f(x)= 345.761\n",
      "differential_evolution step 4: f(x)= 213.692\n",
      "differential_evolution step 5: f(x)= 213.692\n",
      "differential_evolution step 6: f(x)= 213.692\n",
      "differential_evolution step 7: f(x)= 213.692\n",
      "differential_evolution step 8: f(x)= 213.692\n",
      "differential_evolution step 9: f(x)= 213.692\n",
      "differential_evolution step 10: f(x)= 213.692\n",
      "differential_evolution step 11: f(x)= 213.692\n",
      "differential_evolution step 12: f(x)= 213.692\n",
      "differential_evolution step 13: f(x)= 213.692\n",
      "differential_evolution step 14: f(x)= 213.692\n",
      "differential_evolution step 15: f(x)= 213.692\n",
      "differential_evolution step 16: f(x)= 213.692\n",
      "differential_evolution step 17: f(x)= 213.692\n",
      "differential_evolution step 18: f(x)= 213.692\n"
     ]
    }
   ],
   "source": [
    "def asdnonsocialmodelrun(theta):\n",
    "    asdRTs, ZMs, ZTs, ZAs = experimentrun(\n",
    "        mydistances, simtime, theta[0], g, L_ex, L_in, S_ex, S_in, B_0\n",
    "    )\n",
    "    yf = ASD_NS_RTs\n",
    "    xf = asdRTs\n",
    "\n",
    "    m = (xf.size * np.sum(xf * yf) - np.sum(xf) * np.sum(yf)) / (\n",
    "        xf.size * np.sum(xf * xf) - np.sum(xf) ** 2\n",
    "    )\n",
    "    bias = (np.sum(yf) - m * np.sum(xf)) / xf.size\n",
    "\n",
    "    if bias > 0:\n",
    "        bias = 0\n",
    "    if m < 0:\n",
    "        m = 0\n",
    "\n",
    "    cost = np.sum(np.square(np.divide(yf - (m * xf + bias), yf)))\n",
    "\n",
    "    return cost * 100000\n",
    "\n",
    "\n",
    "bounds = [(0, 1)]\n",
    "asdnonsocialres_beta = differential_evolution(asdnonsocialmodelrun, bounds, disp=True)"
   ]
  },
  {
   "cell_type": "code",
   "execution_count": 4,
   "metadata": {},
   "outputs": [
    {
     "name": "stdout",
     "output_type": "stream",
     "text": [
      "     fun: 213.69193475549918\n",
      " message: 'Optimization terminated successfully.'\n",
      "    nfev: 287\n",
      "     nit: 18\n",
      " success: True\n",
      "       x: array([0.91915066])\n"
     ]
    }
   ],
   "source": [
    "print(asdnonsocialres_beta)"
   ]
  },
  {
   "cell_type": "code",
   "execution_count": 4,
   "metadata": {},
   "outputs": [],
   "source": [
    "asdRTs, ZMs, ZTs, ZAs = experimentrun(\n",
    "    mydistances, simtime, 0.91915066, g, L_ex, L_in, S_ex, S_in, B_0\n",
    ")"
   ]
  },
  {
   "cell_type": "code",
   "execution_count": 6,
   "metadata": {},
   "outputs": [
    {
     "name": "stdout",
     "output_type": "stream",
     "text": [
      "5.029315308541629 -15.977252740525818\n"
     ]
    },
    {
     "data": {
      "image/png": "[encoded data removed]",
      "text/plain": [
       "<Figure size 432x288 with 1 Axes>"
      ]
     },
     "metadata": {
      "needs_background": "light"
     },
     "output_type": "display_data"
    }
   ],
   "source": [
    "mydistances = np.linspace(v_distances[0], v_distances[-1], 7)\n",
    "xf = asdRTs\n",
    "yf = ASD_NS_RTs\n",
    "m = (xf.size * np.sum(xf * yf) - np.sum(xf) * np.sum(yf)) / (\n",
    "    xf.size * np.sum(xf * xf) - np.sum(xf) ** 2\n",
    ")\n",
    "bias = (np.sum(yf) - m * np.sum(xf)) / xf.size\n",
    "\n",
    "ymin, ymax = np.min(m * xf + bias), np.max(m * xf + bias)\n",
    "dc, h = sigfit(mydistances, m * xf + bias)\n",
    "mydistances_exp = np.linspace(v_distances[0], v_distances[-1], 30)\n",
    "yf_exp = RTsig(mydistances_exp, dc, h)\n",
    "\n",
    "plt.figure(1)\n",
    "plt.plot(mydistances_exp, yf_exp, label=\"ASD - Non Social Model\", color=\"r\")\n",
    "plt.scatter(mydistances, yf, label=\"ASD - Non Social Data\", color=\"r\")\n",
    "plt.ylabel(\"Multisensory facilitation (ms)\", size=14)\n",
    "plt.xlabel(\"Distance (cm)\", size=14)\n",
    "plt.legend(prop={\"size\": 12})\n",
    "print(m, bias)"
   ]
  },
  {
   "cell_type": "code",
   "execution_count": 7,
   "metadata": {},
   "outputs": [],
   "source": [
    "nonsocialasd = np.asarray([yf_exp, yf])\n",
    "np.save(\"Results/nonsocialasd_alter.npy\", nonsocialasd)"
   ]
  }
 ],
 "metadata": {
  "kernelspec": {
   "display_name": "Python 3",
   "language": "python",
   "name": "python3"
  },
  "language_info": {
   "codemirror_mode": {
    "name": "ipython",
    "version": 3
   },
   "file_extension": ".py",
   "mimetype": "text/x-python",
   "name": "python",
   "nbconvert_exporter": "python",
   "pygments_lexer": "ipython3",
   "version": "3.7.4"
  },
  "widgets": {
   "application/vnd.jupyter.widget-state+json": {
    "state": {},
    "version_major": 2,
    "version_minor": 0
   }
  }
 },
 "nbformat": 4,
 "nbformat_minor": 4
}
