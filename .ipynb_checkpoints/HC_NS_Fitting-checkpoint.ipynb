{
 "cells": [
  {
   "cell_type": "code",
   "execution_count": 1,
   "metadata": {},
   "outputs": [],
   "source": [
    "### Load PPS model\n",
    "%run ./PPS_model_visual.ipynb"
   ]
  },
  {
   "cell_type": "code",
   "execution_count": 2,
   "metadata": {},
   "outputs": [
    {
     "data": {
      "text/plain": [
       "<matplotlib.collections.PathCollection at 0x25b024452c8>"
      ]
     },
     "execution_count": 2,
     "metadata": {},
     "output_type": "execute_result"
    },
    {
     "data": {
      "image/png": "[encoded data removed]",
      "text/plain": [
       "<Figure size 432x288 with 1 Axes>"
      ]
     },
     "metadata": {
      "needs_background": "light"
     },
     "output_type": "display_data"
    }
   ],
   "source": [
    "### Visuotactile experiment simulation setup \n",
    "\n",
    "# Distance points in cm (network coordinates) \n",
    "v_distances = np.asarray([13.2,23.1,33,42.9,52.8])\n",
    "mydistances = np.linspace(v_distances[0],v_distances[-1],7)\n",
    "\n",
    "## Simulation setup\n",
    "simtime = 100 #ms \n",
    "bi = 0\n",
    "\n",
    "# Experimental Data\n",
    "ymin = -31.56860060612649\n",
    "ymax = -15.299482759035628 \n",
    "cp = 33.641\n",
    "slope = 4.0382\n",
    "HC_NS_RTs = RTsig(mydistances,cp,slope)\n",
    "plt.scatter(mydistances,HC_NS_RTs)"
   ]
  },
  {
   "cell_type": "code",
   "execution_count": 11,
   "metadata": {},
   "outputs": [
    {
     "name": "stdout",
     "output_type": "stream",
     "text": [
      "differential_evolution step 1: f(x)= 241.658\n",
      "differential_evolution step 2: f(x)= 241.658\n",
      "differential_evolution step 3: f(x)= 241.658\n",
      "differential_evolution step 4: f(x)= 191.466\n",
      "differential_evolution step 5: f(x)= 191.466\n",
      "differential_evolution step 6: f(x)= 144.044\n",
      "differential_evolution step 7: f(x)= 144.044\n",
      "differential_evolution step 8: f(x)= 144.044\n",
      "differential_evolution step 9: f(x)= 144.044\n",
      "differential_evolution step 10: f(x)= 144.044\n",
      "differential_evolution step 11: f(x)= 139.675\n",
      "differential_evolution step 12: f(x)= 139.675\n",
      "differential_evolution step 13: f(x)= 139.675\n",
      "differential_evolution step 14: f(x)= 139.675\n",
      "differential_evolution step 15: f(x)= 139.675\n",
      "differential_evolution step 16: f(x)= 139.675\n",
      "differential_evolution step 17: f(x)= 139.675\n",
      "differential_evolution step 18: f(x)= 139.675\n",
      "differential_evolution step 19: f(x)= 139.675\n",
      "differential_evolution step 20: f(x)= 139.675\n",
      "differential_evolution step 21: f(x)= 139.675\n",
      "differential_evolution step 22: f(x)= 139.675\n",
      "differential_evolution step 23: f(x)= 139.675\n",
      "differential_evolution step 24: f(x)= 139.675\n",
      "differential_evolution step 25: f(x)= 139.675\n",
      "differential_evolution step 26: f(x)= 139.675\n",
      "differential_evolution step 27: f(x)= 139.675\n",
      "differential_evolution step 28: f(x)= 139.675\n",
      "differential_evolution step 29: f(x)= 139.675\n",
      "differential_evolution step 30: f(x)= 139.675\n",
      "differential_evolution step 31: f(x)= 139.675\n",
      "differential_evolution step 32: f(x)= 139.675\n",
      "differential_evolution step 33: f(x)= 139.675\n",
      "differential_evolution step 34: f(x)= 139.675\n"
     ]
    }
   ],
   "source": [
    "def hcnsmodelrun(theta):\n",
    "    hcnsRTs,ZMs,ZTs,ZAs = experimentrun(mydistances,simtime,bi,theta[0],theta[1],theta[2],theta[3])\n",
    "    xf = hcnsRTs\n",
    "    yf = HC_NS_RTs\n",
    "    \n",
    "    m = (xf.size * np.sum(xf*yf) - np.sum(xf) * np.sum(yf)) / (xf.size*np.sum(xf*xf) - np.sum(xf) ** 2)\n",
    "    bias = (np.sum(yf) - m*np.sum(xf)) / xf.size\n",
    "    \n",
    "    if bias>0: bias=0\n",
    "    if m<0: m=0\n",
    "    \n",
    "    cost = np.sum(np.square(np.divide(yf-(m*xf+bias),yf)))\n",
    "    \n",
    "    return cost*100000\n",
    "\n",
    "bounds=[(1,50),(500,1000),(15,30),(0.25,1)]\n",
    "hcnsres = differential_evolution(hcnsmodelrun,bounds,disp=True)"
   ]
  },
  {
   "cell_type": "code",
   "execution_count": 12,
   "metadata": {},
   "outputs": [
    {
     "name": "stdout",
     "output_type": "stream",
     "text": [
      "     fun: 139.67459188335565\n",
      " message: 'Optimization terminated successfully.'\n",
      "    nfev: 2105\n",
      "     nit: 34\n",
      " success: True\n",
      "       x: array([  5.26739283, 577.31311472,  29.89454971,   0.67041316])\n"
     ]
    }
   ],
   "source": [
    "print(hcnsres)"
   ]
  },
  {
   "cell_type": "code",
   "execution_count": 3,
   "metadata": {},
   "outputs": [],
   "source": [
    "sHC_RTs,ZMs,ZTs,ZVs = experimentrun(mydistances,simtime,bi,5.26739283, 577.31311472, 29.89454971,0.67041316)"
   ]
  },
  {
   "cell_type": "code",
   "execution_count": 4,
   "metadata": {},
   "outputs": [
    {
     "data": {
      "text/plain": [
       "<matplotlib.legend.Legend at 0x25b0d5b38c8>"
      ]
     },
     "execution_count": 4,
     "metadata": {},
     "output_type": "execute_result"
    },
    {
     "data": {
      "image/png": "[encoded data removed]",
      "text/plain": [
       "<Figure size 432x288 with 1 Axes>"
      ]
     },
     "metadata": {
      "needs_background": "light"
     },
     "output_type": "display_data"
    }
   ],
   "source": [
    "mydistances = np.linspace(v_distances[0],v_distances[-1],7)\n",
    "xf = sHC_RTs\n",
    "yf = HC_NS_RTs\n",
    "m = (xf.size * np.sum(xf*yf) - np.sum(xf) * np.sum(yf)) / (xf.size*np.sum(xf*xf) - np.sum(xf) ** 2)\n",
    "bias = (np.sum(yf) - m*np.sum(xf)) / xf.size\n",
    "\n",
    "ymin,ymax = np.min(m*xf+bias),np.max(m*xf+bias) \n",
    "dc,h = sigfit(mydistances,m*xf+bias)\n",
    "mydistances_exp = np.linspace(v_distances[0],v_distances[-1],30)\n",
    "yf_exp = RTsig(mydistances_exp,dc,h)\n",
    "\n",
    "plt.figure(1)\n",
    "plt.plot(mydistances_exp,yf_exp,label = 'HC - Non Social Model',color='k')\n",
    "plt.scatter(mydistances,yf,label = 'HC - Non Social Data',color='k')\n",
    "plt.ylabel('Multisensory facilitation (ms)',size=14)\n",
    "plt.xlabel('Distance (cm)',size=14)\n",
    "plt.legend(prop={'size': 12})"
   ]
  },
  {
   "cell_type": "code",
   "execution_count": 8,
   "metadata": {},
   "outputs": [
    {
     "name": "stdout",
     "output_type": "stream",
     "text": [
      "1.8458906909030797 -2.0352045221870987\n"
     ]
    }
   ],
   "source": [
    "nonsocialhc = np.asarray([yf_exp,yf])\n",
    "np.save('Results/nonsocialhc.npy',nonsocialhc)\n",
    "print(m,bias)"
   ]
  },
  {
   "cell_type": "code",
   "execution_count": 6,
   "metadata": {},
   "outputs": [
    {
     "name": "stdout",
     "output_type": "stream",
     "text": [
      "0.41424466124627646\n"
     ]
    }
   ],
   "source": [
    "from sklearn import metrics\n",
    "print(metrics.mean_squared_error(yf,m*xf+bias,squared=False))"
   ]
  }
 ],
 "metadata": {
  "kernelspec": {
   "display_name": "Python 3",
   "language": "python",
   "name": "python3"
  },
  "language_info": {
   "codemirror_mode": {
    "name": "ipython",
    "version": 3
   },
   "file_extension": ".py",
   "mimetype": "text/x-python",
   "name": "python",
   "nbconvert_exporter": "python",
   "pygments_lexer": "ipython3",
   "version": "3.7.4"
  },
  "widgets": {
   "application/vnd.jupyter.widget-state+json": {
    "state": {},
    "version_major": 2,
    "version_minor": 0
   }
  }
 },
 "nbformat": 4,
 "nbformat_minor": 4
}
